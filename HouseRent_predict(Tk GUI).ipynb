{
 "cells": [
  {
   "cell_type": "code",
   "execution_count": 8,
   "id": "016c39fc-0697-449c-a2e3-ad512940b953",
   "metadata": {},
   "outputs": [],
   "source": [
    "# Import libraries\n",
    "import pandas as pd\n",
    "from sklearn.model_selection import train_test_split\n",
    "from sklearn.linear_model import LinearRegression\n",
    "from sklearn.metrics import mean_squared_error\n",
    "import tkinter as tk\n",
    "from tkinter import messagebox\n"
   ]
  },
  {
   "cell_type": "code",
   "execution_count": 9,
   "id": "2776e8c7-2439-4f6d-b832-e0481f551b0a",
   "metadata": {},
   "outputs": [],
   "source": [
    "# Dataset defined directly in code\n",
    "data = pd.DataFrame({\n",
    "    'Area (sqft)': [1000, 850, 1200, 600, 1500, 900, 1100, 1300, 700, 1400],\n",
    "    'Bedrooms': [2, 1, 3, 1, 3, 2, 2, 3, 1, 3],\n",
    "    'Bathrooms': [2, 1, 2, 1, 3, 1, 2, 2, 1, 3],\n",
    "    'Rent (₹)': [15000, 10000, 20000, 8000, 25000, 12000, 16000, 22000, 9000, 24000]\n",
    "})\n",
    "\n",
    "# Features and target\n",
    "X = data[['Area (sqft)', 'Bedrooms', 'Bathrooms']]\n",
    "y = data['Rent (₹)']\n"
   ]
  },
  {
   "cell_type": "code",
   "execution_count": 10,
   "id": "19fc04db-22fa-4509-8081-29874342a3f6",
   "metadata": {},
   "outputs": [
    {
     "name": "stdout",
     "output_type": "stream",
     "text": [
      "Mean Squared Error: 781250.0000009122\n"
     ]
    }
   ],
   "source": [
    "# Split dataset\n",
    "X_train, X_test, y_train, y_test = train_test_split(X, y, test_size=0.2, random_state=42)\n",
    "\n",
    "# Train model\n",
    "model = LinearRegression()\n",
    "model.fit(X_train, y_train)\n",
    "\n",
    "# Evaluate model\n",
    "mse = mean_squared_error(y_test, model.predict(X_test))\n",
    "print(\"Mean Squared Error:\", mse)\n"
   ]
  },
  {
   "cell_type": "code",
   "execution_count": 11,
   "id": "aeefa2dc-617e-492e-9d0d-12ae289428b3",
   "metadata": {},
   "outputs": [
    {
     "name": "stderr",
     "output_type": "stream",
     "text": [
      "C:\\Users\\Mega Tech RK\\anaconda3\\lib\\site-packages\\sklearn\\base.py:420: UserWarning: X does not have valid feature names, but LinearRegression was fitted with feature names\n",
      "  warnings.warn(\n"
     ]
    }
   ],
   "source": [
    "# Tkinter GUI\n",
    "def predict_rent():\n",
    "    try:\n",
    "        area = float(entry_area.get())\n",
    "        bedrooms = int(entry_bedrooms.get())\n",
    "        bathrooms = int(entry_bathrooms.get())\n",
    "        new_house = [[area, bedrooms, bathrooms]]\n",
    "        predicted_rent = model.predict(new_house)\n",
    "        messagebox.showinfo(\"Predicted Rent\", f\"Estimated Rent: ₹{int(predicted_rent[0])}\")\n",
    "    except ValueError:\n",
    "        messagebox.showerror(\"Input Error\", \"Please enter valid numbers for all fields.\")\n",
    "\n",
    "# GUI window\n",
    "root = tk.Tk()\n",
    "root.title(\"House Rent Predictor\")\n",
    "root.geometry(\"300x250\")\n",
    "\n",
    "# Labels and Entries\n",
    "tk.Label(root, text=\"Area (sqft)\").pack(pady=5)\n",
    "entry_area = tk.Entry(root)\n",
    "entry_area.pack()\n",
    "\n",
    "tk.Label(root, text=\"Bedrooms\").pack(pady=5)\n",
    "entry_bedrooms = tk.Entry(root)\n",
    "entry_bedrooms.pack()\n",
    "\n",
    "tk.Label(root, text=\"Bathrooms\").pack(pady=5)\n",
    "entry_bathrooms = tk.Entry(root)\n",
    "entry_bathrooms.pack()\n",
    "\n",
    "# Predict Button\n",
    "tk.Button(root, text=\"Predict Rent\", command=predict_rent, bg=\"blue\", fg=\"white\").pack(pady=20)\n",
    "\n",
    "root.mainloop()\n"
   ]
  },
  {
   "cell_type": "code",
   "execution_count": null,
   "id": "a5d95399-edb0-49f7-b87f-7cd3aec7490c",
   "metadata": {},
   "outputs": [],
   "source": []
  }
 ],
 "metadata": {
  "kernelspec": {
   "display_name": "Python 3 (ipykernel)",
   "language": "python",
   "name": "python3"
  },
  "language_info": {
   "codemirror_mode": {
    "name": "ipython",
    "version": 3
   },
   "file_extension": ".py",
   "mimetype": "text/x-python",
   "name": "python",
   "nbconvert_exporter": "python",
   "pygments_lexer": "ipython3",
   "version": "3.10.9"
  }
 },
 "nbformat": 4,
 "nbformat_minor": 5
}
